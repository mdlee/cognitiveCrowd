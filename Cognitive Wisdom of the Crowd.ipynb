{
 "cells": [
  {
   "attachments": {},
   "cell_type": "markdown",
   "metadata": {},
   "source": [
    "### Cognitive Wisdom of the Crowd\n",
    "\n",
    "The wisdom of the crowd is the idea that combining the knowledge of a group of people can lead to an answer that is better than most or all of the individuals in the crowd.\n",
    "\n",
    "There are at least three ways crowds might be wise:\n",
    "* **Finding someone who knows**: Some people know the answer, with certainty, to a general knowledge question like _what is the capital of Peru?_ A crowd can get the question right simply by having enough people to include somebody who knows the answer\n",
    "* **Amplifying signal and canceling noise**: If a group of people estimate the number of jelly beans in jar, their estimates will be based on the common signal that is the ground truth and individual noise. An aggregation of the estimates will amplify the signal by cancelling the noise, leading to a more accurate group estimate.\n",
    "* **Completing a jigsaw**: For more complicted multidimensional question, different people may know different parts of the answer. ,For example, if a group of people is asked to list the 45 US Presidents in chronological order, different individuals may know the order of presidents in different historical periods they have studied. Combining these pieces of knowledge leads to a more complete and accurate group answer.\n",
    "\n",
    "As these examples make clear, the wisdom of the crowd phenomenon can be applied to various sorts of knowledge, including\n",
    "* **Single choice** There is a single correct answer, out of a number alternatives.\n",
    " * An example is identifying Lima as the capital of Peru\n",
    "\n",
    "\n",
    "The insight behind the _cognitive_ wisdom of the crowd is that\n",
    "> The data that need to be aggregated are human behavioral data. They are the outputs of cognitive processes, based upon mental representations of knowledge.\n",
    "\n",
    "\n",
    "term\n",
    ": definition\n",
    "\n",
    "+ here is a lits\n",
    "  + and it looks like this\n",
    "  \n",
    "  First Header | Second Header\n",
    "------------ | -------------\n",
    "Content cell 1 | Content cell 2\n",
    "Content column 1 | Content column 2\n",
    "\n",
    "- [x] this is a complete item\n",
    "- [ ] this is an incomplete item\n",
    "- [x] @mentions, #refs, [links](),\n",
    "**formatting**, and <del>tags</del>\n",
    "supported\n",
    "- [x] list syntax required (any\n",
    "unordered or ordered list\n",
    "supported)\n",
    "\n",
    "As Grace Hopper said:\n",
    "> I’ve always been more interested\n",
    "> in the future than in the past.\n",
    "\n",
    "`variableName`\n",
    "\n",
    "Task List\t- [x] Write the press release\n",
    "- [ ] Update the website\n",
    "- [ ] Contact the media"
   ]
  },
  {
   "cell_type": "code",
   "execution_count": null,
   "metadata": {},
   "outputs": [],
   "source": []
  }
 ],
 "metadata": {
  "kernelspec": {
   "display_name": "Python 3",
   "language": "python",
   "name": "python3"
  },
  "language_info": {
   "codemirror_mode": {
    "name": "ipython",
    "version": 3
   },
   "file_extension": ".py",
   "mimetype": "text/x-python",
   "name": "python",
   "nbconvert_exporter": "python",
   "pygments_lexer": "ipython3",
   "version": "3.6.5"
  }
 },
 "nbformat": 4,
 "nbformat_minor": 2
}
